{
 "cells": [
  {
   "cell_type": "markdown",
   "id": "892ada9c",
   "metadata": {},
   "source": [
    "# TMA4215 Numerical Mathematics Project #1"
   ]
  },
  {
   "cell_type": "markdown",
   "id": "a43067d2",
   "metadata": {},
   "source": [
    "## Yawar Mahmood"
   ]
  },
  {
   "cell_type": "markdown",
   "id": "1f3845e6",
   "metadata": {},
   "source": [
    "Solving systems of equations is of great importance in today's technological society. Sometimes you don't have enough information about the variables you solve for, in other words, you have more variables than equations in your system. This is called underdetermined systems.\n",
    "\n",
    "In this project, we will solve linear underdetermined systems of the form\n",
    "\n",
    "$$ A\\textbf{x} = \\textbf{y} $$\n",
    "\n",
    "where $ A \\in \\mathbb{R}^{mxn} $, $ \\textbf{x} \\in \\mathbb{R}^n $, $ \\textbf{y} \\in \\mathbb{R}^m $, where $ m < n $\n",
    "\n",
    "We will use different methods to solve such systems of equations.\n",
    "\n",
    "In Task 1 we use QR decomposition. \n",
    "\n",
    "In Task 2 we look at Tikhonov regularisations, where we solve for the least square solution. SVD decomposition is also used here.\n",
    "\n",
    "In Task 3, we look at a more practical problem, namely Single Channel Source Separation."
   ]
  },
  {
   "cell_type": "code",
   "execution_count": 1,
   "id": "b6cbd109",
   "metadata": {},
   "outputs": [],
   "source": [
    "\"\"\"\"\"\"\"\"\"\n",
    "Importing libraries.\n",
    "\"\"\"\"\"\"\"\"\"\n",
    "\n",
    "import numpy as np\n",
    "import matplotlib.pyplot as plt\n",
    "import time\n",
    "import scipy.linalg as la\n",
    "%matplotlib inline"
   ]
  },
  {
   "cell_type": "markdown",
   "id": "b5866e97",
   "metadata": {},
   "source": [
    "Bringing code from project supplementary"
   ]
  },
  {
   "cell_type": "code",
   "execution_count": 2,
   "id": "d5528856",
   "metadata": {},
   "outputs": [],
   "source": [
    "def generate_A(m,n):\n",
    "    \"\"\"\n",
    "    Generates m times n with correlated columns.\n",
    "    Input:\n",
    "        m: int, first dimension of A\n",
    "        n: int, second dimension of A\n",
    "    output:\n",
    "        A: np.ndarray\n",
    "    \"\"\"\n",
    "\n",
    "    cov_eigvecs = np.random.uniform(-1.0,1.0,(m,m))\n",
    "    cov = cov_eigvecs.T @ cov_eigvecs\n",
    "    v = np.sqrt(np.diag(cov))\n",
    "    outer_v = np.outer(v, v)\n",
    "    corr = cov / outer_v\n",
    "    corr[cov == 0] = 0\n",
    "    chol = la.cholesky(corr, lower=True) \n",
    "    A = np.random.normal(0, 1.0,(m,n))\n",
    "    A = np.dot(chol, A)\n",
    "    return A\n",
    "\n",
    "m = 2048\n",
    "n = 8096\n",
    "A = generate_A(m,n)"
   ]
  },
  {
   "cell_type": "code",
   "execution_count": 3,
   "id": "b11335fb",
   "metadata": {},
   "outputs": [
    {
     "name": "stdout",
     "output_type": "stream",
     "text": [
      "(8096, 100)\n",
      "(2048, 100)\n"
     ]
    }
   ],
   "source": [
    "N = 100 # Number of test data we want to generate\n",
    "\n",
    "# Generate solutions X columnwise, X[:,i] to access i-th vector\n",
    "X = np.random.normal(0.0,1.0,(A.shape[1],N))\n",
    "\n",
    "# Generate left hand sides Y columnwise Y[:,i] to access lhs\n",
    "Y = np.dot(A,X)\n",
    "\n",
    "# Doublecheck shapes\n",
    "print(X.shape) # Expect (n,N)\n",
    "print(Y.shape) # Expect (m,N)"
   ]
  },
  {
   "cell_type": "markdown",
   "id": "5e5d65f9",
   "metadata": {},
   "source": [
    "# Task 1"
   ]
  },
  {
   "cell_type": "markdown",
   "id": "73a7d617",
   "metadata": {},
   "source": [
    "## 1a)\n",
    "\n",
    "Underdetermined linear systemes, where A is so-called wide, usually has no or infinitely many solutions. We will now present what the general case for no solutions and infinitely many solutions looks like. Then we will set m=2 and n=3, and give more rooted examples."
   ]
  },
  {
   "cell_type": "markdown",
   "id": "69bd9126",
   "metadata": {},
   "source": [
    "### i) the linear system does not have a solution\n",
    "\n",
    "Choose all the entries of A $\\in$ $\\mathbb{R}^{mxn}$ to be zero, and choose $\\textbf{y}$ such that it has no zero entries. This system has no solution.\n",
    "\n",
    "Example:\n",
    "\n",
    "$$\n",
    "A = \n",
    "\\begin{bmatrix}\n",
    "    0 & 0 & 0 \\\\\n",
    "    0 & 0 & 0 \\\\\n",
    "\\end{bmatrix}\n",
    "$$\n",
    "$$\n",
    "x = \n",
    "\\begin{bmatrix}\n",
    "    x_1 \\\\\n",
    "    x_2 \\\\\n",
    "    x_3 \\\\\n",
    "\\end{bmatrix}\n",
    "$$\n",
    "$$\n",
    "y = \n",
    "\\begin{bmatrix}\n",
    "    1 \\\\\n",
    "    1 \\\\\n",
    "\\end{bmatrix}\n",
    "$$\n",
    "\n",
    "### ii) the linear system has infinetaly many solutions\n",
    "\n",
    "Choose all the entries of A $\\in$ $\\mathbb{R}^{mxn}$ and $\\textbf{y}$ to be zero. This system has infinetaly many solutions.\n",
    "\n",
    "Example:\n",
    "\n",
    "$$\n",
    "A = \n",
    "\\begin{bmatrix}\n",
    "    0 & 0 & 0 \\\\\n",
    "    0 & 0 & 0 \\\\\n",
    "\\end{bmatrix}\n",
    "$$\n",
    "$$\n",
    "x = \n",
    "\\begin{bmatrix}\n",
    "    x_1 \\\\\n",
    "    x_2 \\\\\n",
    "    x_3 \\\\\n",
    "\\end{bmatrix}\n",
    "$$\n",
    "$$\n",
    "y = \n",
    "\\begin{bmatrix}\n",
    "    0 \\\\\n",
    "    0 \\\\\n",
    "\\end{bmatrix}\n",
    "$$"
   ]
  },
  {
   "cell_type": "markdown",
   "id": "0a42833a",
   "metadata": {},
   "source": [
    "## 1b)\n",
    "\n",
    "Symmetric and positive semi-definite (PSD) matrices are in many ways easier to work with. We will show here that $A^TA$ and $AA^T$ are symmetric, as well as PSD."
   ]
  },
  {
   "cell_type": "markdown",
   "id": "30e4f527",
   "metadata": {},
   "source": [
    "Let A $\\in$ $\\mathbb{R}^{mxn}$, then $A^T \\in \\mathbb{R}^{nxm}$\n",
    "\n",
    "Let the identity $(MN)^T = N^TM^T$ be known. \n",
    "\n",
    "We will first show that they are symmetrical. If a matrix M is symmetrical, then $M^T$ = M:\n",
    "\n",
    "$$ (AA^T)^T = (A^T)^T A^T = AA^T $$\n",
    "\n",
    "$$ (A^TA)^T = A^T(A^T)^T = A^TA $$\n",
    "\n",
    "Which is what we wanted to show\n",
    "\n",
    "Further, we want to show that they also are PSD. If a matrix M is PSD, then $ x^TMx \\geq 0, \\forall \\textbf{x} \\in \\mathbb{R}^n $:\n",
    "\n",
    "$$ x^TA^TAx = (Ax)^TAx = <Ax, Ax> = ||Ax||^2 \\geq 0 $$\n",
    "\n",
    "$$ x^TAA^Tx = (A^Tx)^TA^Tx = <A^Tx, A^Tx> = ||A^Tx||^2 \\geq 0 $$\n",
    "\n",
    "Which is what we wanted to show\n",
    "\n",
    "Now we want to say something about the invertibility of these two matrices, given that A has full rank, that is, $rank(A) = m$. Further, we say that a matrix is invertable if it has full rank. In other words, it has linearly independent column vectors.\n",
    "\n",
    "$ rank(A^TA) $:\n",
    "\n",
    "$ A^TA \\in \\mathbb{R}^{nxn} $, this matrix has rank n\n",
    "\n",
    "$ rank(AA^T) $:\n",
    "\n",
    "$ AA^T \\in \\mathbb{R}^{mxm} $, this matrix has rank m\n",
    "\n",
    "It is known that m < n, therefore $ AA^T $ is invertable, and $A^TA$ is not. "
   ]
  },
  {
   "cell_type": "markdown",
   "id": "5e149e8b",
   "metadata": {},
   "source": [
    "## 1c) \n",
    "\n",
    "Which of the infinite number of solutions for x is the most appropriate to use?\n",
    "\n",
    "One possibility is to choose x so that it has minimal norm. This is a constraint optimization problem, and we define $x_{min}$ as the minimal norm solution.\n",
    "\n",
    "Let $ L(x, \\lambda) = x^Tx + \\lambda^T(Ax - y) = ||x||_2^2 + \\lambda^TAx - \\lambda^Ty $ be the Lagrange function for our minimal norm solution (L is given). We want to minimize L with respect to x and maximize L with respect to $\\lambda$.\n",
    "\n",
    "We are going to use this to show that $ x_{min} = A^T(AA^T)^{-1}y $"
   ]
  },
  {
   "cell_type": "markdown",
   "id": "004ef4f1",
   "metadata": {},
   "source": [
    "We start by computing both $\\nabla_\\lambda L$ and $ \\nabla_x L $.\n",
    "\n",
    "$\\nabla_\\lambda L$:\n",
    "\n",
    "$$ \\nabla_\\lambda L(x, \\lambda) = \\nabla_\\lambda \\lambda^TAx - \\nabla_\\lambda \\lambda^Ty $$\n",
    "\n",
    "$$\\nabla_\\lambda \\sum_j\\lambda_j(a_{ij}x_j) - \\nabla_\\lambda \\sum_j \\lambda_jy $$\n",
    "\n",
    "$$\\sum_j(a_{ij}x_j) - y\\sum_j 1$$\n",
    "\n",
    "$$ Ax - y $$\n",
    "\n",
    "\n",
    "$\\nabla_x L$:\n",
    "\n",
    "$$ \\nabla_x L(x, \\lambda) = \\nabla_x ||x||_ 2^2 + \\nabla_x \\lambda^TAx $$\n",
    "\n",
    "$$ \\nabla_x \\sum_j  \\sqrt{(x_j^2)}^2 + \\nabla_x \\sum_j\\lambda_j(a_{ij}x_j) $$\n",
    "\n",
    "$$ \\nabla_x \\sum_j x_j^2 + \\nabla_x \\sum_j\\lambda_j(a_{ij}x_j) $$\n",
    "\n",
    "$$ 2x + \\sum_j\\lambda_j (a_{ij}) $$\n",
    "\n",
    "$$ 2x + A^T\\lambda $$\n",
    "\n",
    "Setting both gradients to zero:\n",
    "\\begin{align} \\label{eq1}\\tag{1}\n",
    "    Ax - y = 0\n",
    "\\end{align}\n",
    "\n",
    "\\begin{align} \\label{eq2}\\tag{2}\n",
    "    2x+A^T\\lambda = 0\n",
    "\\end{align}\n",
    "\n",
    "Solving (\\ref{eq1}) for x and (\\ref{eq2}) for $\\lambda$:\n",
    "\n",
    "\\begin{align} \\label{eq3}\\tag{3}\n",
    "    x = A^{-1}y\n",
    "\\end{align}\n",
    "\n",
    "\\begin{align} \\label{eq4}\\tag{4}\n",
    "    \\lambda = -2(A^{T})^{-1}x\n",
    "\\end{align}\n",
    "\n",
    "Insert (\\ref{eq3}) in (\\ref{eq4}):\n",
    "\n",
    "\\begin{align} \\label{eq5}\\tag{5}\n",
    "    \\lambda = -2(A^{T})^{-1} A^{-1}y\n",
    "\\end{align}\n",
    "\n",
    "Substituting (\\ref{eq5}) in (\\ref{eq2}):\n",
    "$$ 2x-2A^T(A^{T})^{-1} A^{-1}y = 0 $$\n",
    "$$ x = A^T(A^{T})^{-1} A^{-1}y $$\n",
    "\\begin{align} \\label{eq6}\\tag{6}\n",
    "    x = A^T(AA^T)^{-1}y\n",
    "\\end{align}\n",
    "\n",
    "Which is what we wanted to show"
   ]
  },
  {
   "cell_type": "markdown",
   "id": "96b45ea3",
   "metadata": {},
   "source": [
    "## 1d)"
   ]
  },
  {
   "cell_type": "markdown",
   "id": "a7ab9c03",
   "metadata": {},
   "source": [
    "Let\n",
    "\n",
    "\\begin{align} \\label{eq7}\\tag{7}\n",
    "     A^T = QR \n",
    "\\end{align}\n",
    "\n",
    "\\begin{align} \\label{eq8}\\tag{8}\n",
    "     A = R^TQ^T \n",
    "\\end{align}\n",
    "\n",
    "where $Q \\in \\mathbb{R}^{nxm}$ is an orthogonal matrix and $ R \\in \\mathbb{R}^{mxm} $ is an upper triangular matrix. \n",
    "\n",
    "Insert (\\ref{eq7}) and (\\ref{eq8}) in (6):\n",
    "\n",
    "$$ x = QR(R^TQ^TQR)^{-1}y $$\n",
    "\n",
    "Using $ Q^TQ = I $:\n",
    "\n",
    "$$ x = QR(R^TR)^{-1}y $$\n",
    "\n",
    "Using that $(AB)^{-1} = B^{-1}A^{-1}$ \n",
    "\n",
    "and \n",
    "\n",
    "if $(AB)^{-1}$ exists, implies that $A^{-1}$ and $B^{-1}$ exists\n",
    "\n",
    "$$ x = QRR^{-1}(R^T)^{-1}y $$\n",
    "\\begin{align} \\label{eq9}\\tag{9}\n",
    "     x = Q(R^T)^{-1} y\n",
    "\\end{align}\n",
    "\n",
    "Which is what we wanted to show"
   ]
  },
  {
   "cell_type": "code",
   "execution_count": 76,
   "id": "25f55181",
   "metadata": {},
   "outputs": [],
   "source": [
    "def QR_decomposition(A):\n",
    "    \"\"\"\n",
    "    Performs QR decomposition\n",
    "    Input:\n",
    "        A: np.array, which we want to QR decompose\n",
    "    output:\n",
    "        Q: np.array, orthogonal matrix\n",
    "        R: np.array, upper triangular matrix\n",
    "    \"\"\"\n",
    "    Q = np.copy(A)\n",
    "    num_col = np.shape(Q)[-1]\n",
    "    for i in range(num_col):\n",
    "        for j in range(i):\n",
    "            Q[:, i] -= np.dot(Q[:, j], Q[:, i]) * Q[:, j]\n",
    "        Q[:, i] /= np.linalg.norm(Q[:, i], 2)\n",
    "    R = np.matmul(Q.T, A)\n",
    "    return Q, R"
   ]
  },
  {
   "cell_type": "markdown",
   "id": "3f8db2bc",
   "metadata": {},
   "source": [
    "## 1e)\n",
    "\n",
    "In practical applications, it is difficult and/or timeconsuming to calculate the inverse of a matrix. As we can see from (9), there is an inverse in the equation. We can find a work around this issue"
   ]
  },
  {
   "cell_type": "markdown",
   "id": "dda58e26",
   "metadata": {},
   "source": [
    "Let $ z = (R^T)^{-1}y $\n",
    "\n",
    "Then:\n",
    "\\begin{align} \\label{eq10}\\tag{10}\n",
    "     R^Tz = y\n",
    "\\end{align}\n",
    "\n",
    "Then (9) can be written as: \n",
    "\n",
    "\\begin{align} \\label{eq11}\\tag{11}\n",
    "     x = Qz\n",
    "\\end{align}\n",
    "\n",
    "Instead of solving one equation with an inverse in (9), we can first solve (\\ref{eq10}) for z. (\\ref{eq10}) is particularly easy to solve, since $R^T$ is a lower triangular matrix. We use forward substitution to solve for z. z can then be used to solve for x in (\\ref{eq11})"
   ]
  },
  {
   "cell_type": "code",
   "execution_count": 5,
   "id": "65c8b359",
   "metadata": {},
   "outputs": [],
   "source": [
    "def forward_substitution(R, y):\n",
    "    \"\"\"\n",
    "    Solves a system with an lower triangular matrix \n",
    "    Input:\n",
    "        R: np.array, upper triangular matrix\n",
    "        y: np.array, righthand side of equation\n",
    "    output:\n",
    "        z: np.array, solution of lower triangular matrix system\n",
    "    \"\"\"\n",
    "    R_T = R.T\n",
    "    rows = R.shape[0]\n",
    "    z = np.zeros_like(y, dtype=np.double)\n",
    "    z[0] = y[0] / R_T[0,0]\n",
    "    for i in range(1, rows):\n",
    "        z[i] = (y[i] - np.dot(R_T[i, :i], z[:i])) / R_T[i,i]\n",
    "    return z\n",
    "\n",
    "def solve_x_QR(Q, R, y):\n",
    "    \"\"\"\n",
    "    Solves a system with QR decomposition\n",
    "    Input:\n",
    "        Q: np.array, orthogonal matrix\n",
    "        R: np.array, upper triangular matrix\n",
    "        y: np.array, righthand side of equation\n",
    "    output:\n",
    "        x: np.array, solution \n",
    "    \"\"\"\n",
    "    z = forward_substitution(R, y)\n",
    "    return np.dot(Q, z)"
   ]
  },
  {
   "cell_type": "markdown",
   "id": "92eb741a",
   "metadata": {},
   "source": [
    "## 1f)\n",
    "\n",
    "Let:\n",
    "\n",
    "\\begin{align} \\label{eq12}\\tag{12}\n",
    "     AA^Tz = y\n",
    "\\end{align}\n",
    "\n",
    "\\begin{align} \\label{eq13}\\tag{13}\n",
    "     x_{min} = A^Tz\n",
    "\\end{align}\n",
    "\n",
    "We are now going to test our method numerically, and compare it against numpy implementations\n",
    "\n",
    "The comparison is based on:\n",
    "- Computation speed\n",
    "- Error\n",
    "\n",
    "We denote numpy implementations by i) and our method by ii)"
   ]
  },
  {
   "cell_type": "markdown",
   "id": "40fd79cc",
   "metadata": {},
   "source": [
    "### Computation speed"
   ]
  },
  {
   "cell_type": "markdown",
   "id": "c468241d",
   "metadata": {},
   "source": [
    "#### i)"
   ]
  },
  {
   "cell_type": "code",
   "execution_count": 63,
   "id": "f43ccc5e",
   "metadata": {},
   "outputs": [
    {
     "name": "stdout",
     "output_type": "stream",
     "text": [
      "172 ms ± 8.97 ms per loop (mean ± std. dev. of 5 runs, 1 loop each)\n"
     ]
    }
   ],
   "source": [
    "%%timeit -r 5\n",
    "np.matmul(A, A.T)"
   ]
  },
  {
   "cell_type": "code",
   "execution_count": 64,
   "id": "685e8412",
   "metadata": {},
   "outputs": [],
   "source": [
    "AAT = np.matmul(A, A.T)"
   ]
  },
  {
   "cell_type": "code",
   "execution_count": 10,
   "id": "dfe0a575",
   "metadata": {},
   "outputs": [
    {
     "name": "stdout",
     "output_type": "stream",
     "text": [
      "13.1 s ± 103 ms per loop (mean ± std. dev. of 5 runs, 1 loop each)\n"
     ]
    }
   ],
   "source": [
    "%%timeit -r 5\n",
    "for y in Y.T:\n",
    "    z = la.solve(AAT, y)\n",
    "    np.matmul(A.T, z)"
   ]
  },
  {
   "cell_type": "markdown",
   "id": "209186e8",
   "metadata": {},
   "source": [
    "#### ii)"
   ]
  },
  {
   "cell_type": "code",
   "execution_count": 77,
   "id": "34fd1fb8",
   "metadata": {},
   "outputs": [
    {
     "name": "stdout",
     "output_type": "stream",
     "text": [
      "30.5 s ± 1.15 s per loop (mean ± std. dev. of 5 runs, 1 loop each)\n"
     ]
    }
   ],
   "source": [
    "%%timeit -r 5\n",
    "QR_decomposition(A.T)"
   ]
  },
  {
   "cell_type": "code",
   "execution_count": 70,
   "id": "00878e56",
   "metadata": {},
   "outputs": [],
   "source": [
    "Q, R = QR_decomposition(A.T)"
   ]
  },
  {
   "cell_type": "code",
   "execution_count": 17,
   "id": "7205dcc2",
   "metadata": {},
   "outputs": [
    {
     "name": "stdout",
     "output_type": "stream",
     "text": [
      "1.52 s ± 57.9 ms per loop (mean ± std. dev. of 5 runs, 1 loop each)\n"
     ]
    }
   ],
   "source": [
    "%%timeit -r 5\n",
    "for y in Y.T:\n",
    "    solve_x_QR(Q, R, y)"
   ]
  },
  {
   "cell_type": "markdown",
   "id": "838f299a",
   "metadata": {},
   "source": [
    "comment on computation time"
   ]
  },
  {
   "cell_type": "markdown",
   "id": "15851db0",
   "metadata": {},
   "source": [
    "### Error"
   ]
  },
  {
   "cell_type": "markdown",
   "id": "f1971758",
   "metadata": {},
   "source": [
    "#### i)"
   ]
  },
  {
   "cell_type": "code",
   "execution_count": 72,
   "id": "2addafc7",
   "metadata": {},
   "outputs": [],
   "source": [
    "error_QR_numpy = np.zeros(len(Y.T))\n",
    "AAT = np.matmul(A, A.T)\n",
    "for i in range(len(Y.T)):\n",
    "    z = la.solve(AAT, Y[:, i])\n",
    "    x_min = np.matmul(A.T, z)\n",
    "    error_QR_numpy[i] = np.linalg.norm(x_min - X[:, i] , 2)"
   ]
  },
  {
   "cell_type": "code",
   "execution_count": 73,
   "id": "99010d44",
   "metadata": {},
   "outputs": [
    {
     "data": {
      "image/png": "[encoded data removed]",
      "text/plain": [
       "<Figure size 432x288 with 1 Axes>"
      ]
     },
     "metadata": {
      "needs_background": "light"
     },
     "output_type": "display_data"
    }
   ],
   "source": [
    "plt.plot(error_QR_numpy)\n",
    "plt.show()"
   ]
  },
  {
   "cell_type": "markdown",
   "id": "5a32b500",
   "metadata": {},
   "source": [
    "#### ii)"
   ]
  },
  {
   "cell_type": "code",
   "execution_count": 74,
   "id": "50a1950d",
   "metadata": {},
   "outputs": [],
   "source": [
    "error_QR_implementation = np.zeros(len(Y.T))\n",
    "for i in range(len(Y.T)):\n",
    "    x_min = solve_x_QR(Q, R, Y[:, i])\n",
    "    error_QR_implementation[i] = np.linalg.norm(x_min - X[:, i] , 2)"
   ]
  },
  {
   "cell_type": "code",
   "execution_count": 75,
   "id": "ecffbe6f",
   "metadata": {},
   "outputs": [
    {
     "data": {
      "image/png": "[encoded data removed]",
      "text/plain": [
       "<Figure size 432x288 with 1 Axes>"
      ]
     },
     "metadata": {
      "needs_background": "light"
     },
     "output_type": "display_data"
    }
   ],
   "source": [
    "plt.plot(error_QR_implementation)\n",
    "plt.show()"
   ]
  },
  {
   "cell_type": "markdown",
   "id": "f6a33c4d",
   "metadata": {},
   "source": [
    "### Difference between error"
   ]
  },
  {
   "cell_type": "code",
   "execution_count": 25,
   "id": "535bcf46",
   "metadata": {},
   "outputs": [
    {
     "data": {
      "image/png": "[encoded data removed]",
      "text/plain": [
       "<Figure size 432x288 with 1 Axes>"
      ]
     },
     "metadata": {
      "needs_background": "light"
     },
     "output_type": "display_data"
    }
   ],
   "source": [
    "plt.plot(np.abs(error_QR_numpy - error_QR_implementation))\n",
    "plt.show()"
   ]
  },
  {
   "cell_type": "markdown",
   "id": "376c8ce1",
   "metadata": {},
   "source": [
    "# Task 2"
   ]
  },
  {
   "cell_type": "markdown",
   "id": "cfc535ce",
   "metadata": {},
   "source": [
    "### 2a)"
   ]
  },
  {
   "cell_type": "markdown",
   "id": "26860950",
   "metadata": {},
   "source": [
    "Let $ T(x) = ||Ax - y||^2 + \\mu||x||^2 $\n",
    "\n",
    "A solution of the Tikhonov regularisation satisfies $\\nabla_x T(x) = 0$\n",
    "\n",
    "$ \\nabla_x T(x) $:\n",
    "\n",
    "$$ \\nabla_x T(x) = \\nabla_x ||Ax - y||^2 + \\nabla_x \\mu||x||^2$$\n",
    "\n",
    "\n",
    "$$ \\nabla_x \\sum_{i}(\\sum_{j} a_{ij}x_j - y_i )^2 + \\nabla_x \\mu \\sum_{i=1}^n x_i^2 $$\n",
    "\n",
    "$$ \\frac{\\partial}{\\partial x_r} \\sum_{i}(\\sum_{j} a_{ij}x_j - y_i )^2 + \\frac{\\partial}{\\partial x_r} \\mu \\sum_{i=1}^n x_i^2 $$\n",
    "\n",
    "$$ 2\\sum_i a_{ir} \\sum_j (a_{ij}x_j - y_i) + 2\\mu x $$\n",
    "\n",
    "$$ 2A^T(Ax - y) + 2\\mu x $$\n",
    "\n",
    "$$ 2[A^T(Ax - y) + \\mu x] $$\n",
    "\n",
    "$ \\nabla_x T(x) = 0$:\n",
    "\n",
    "$$ [A^T(Ax - y) + \\mu x] = 0 $$\n",
    "\n",
    "$$ A^TAx - A^Ty + \\mu x = 0 $$\n",
    "\n",
    "\\begin{align} \\label{eq14}\\tag{14}\n",
    "     [A^TA + \\mu I]x = A^Ty\n",
    "\\end{align}\n",
    "\n",
    "Which is what we wanted to show\n",
    "\n",
    "Further, we want to show that $ [A^TA + \\mu I] $ is symmetric positive semi-definite.\n",
    "\n",
    "Start by showing that $ [A^TA + \\mu I] $ is symmetric:\n",
    "\n",
    "$$ [A^TA + \\mu I]^T = (A^TA)^T + (\\mu I)^T = A^T(A^T)^T + I^T\\mu^T = A^TA + \\mu I $$\n",
    "\n",
    "Need to show that $ x^TA^TAx \\geq 0 $ and $ \\mu I \\geq 0 $\n",
    "\n",
    "$ \\mu I \\geq 0 $ as $ \\mu > 0 $\n",
    "\n",
    "Further, acknowledge that:\n",
    "\n",
    "$$ x^TA^TAx = (Ax)^TAx = || Ax ||^2 \\geq 0 $$\n",
    "\n",
    "Hence, $ [A^TA + \\mu I] $ is symmetric positive semi-definite"
   ]
  },
  {
   "cell_type": "markdown",
   "id": "59cff0cd",
   "metadata": {},
   "source": [
    "### 2b)"
   ]
  },
  {
   "cell_type": "markdown",
   "id": "33ba223f",
   "metadata": {},
   "source": [
    "Let $ A = U\\Sigma V^T $, which implies $ A^T = V\\Sigma^TU^T $\n",
    "\n",
    "Inserting this into (14):\n",
    "$$ [ V\\Sigma^TU^TU\\Sigma V^T + \\mu I ]x_r = V\\Sigma^TU^Ty $$\n",
    "\n",
    "$ U^TU = I_m $:\n",
    "\n",
    "$$ [ V\\Sigma^T\\Sigma V^T + \\mu I ]x_r = V\\Sigma^TU^Ty $$\n",
    "\n",
    "Further, $ \\Sigma^T\\Sigma = \\Sigma^2 = \\Lambda $, and $ I = VV^T $:\n",
    "\n",
    "$$ [ V\\Lambda V^T + \\mu VV^T ]x_r = V\\Sigma^TU^Ty $$\n",
    "\n",
    "$$ V(\\Lambda + \\mu I)V^Tx = V\\Sigma^TU^Ty $$\n",
    "\n",
    "$$ V(\\Lambda + \\mu I)V^Tx = \\Sigma^TU^Ty $$\n",
    "\n",
    "$$ x = V(\\Lambda + \\mu I)^{-1}\\Sigma^TU^Ty $$\n",
    "\n",
    "Notice that $ (\\Lambda + \\mu I)^{-1}\\Sigma^T $ is diagonal, and we call this matrix D. Then: \n",
    "\n",
    "$$ x = VDU^Ty $$\n",
    "\n",
    "Which is what we wanted to show"
   ]
  },
  {
   "cell_type": "markdown",
   "id": "19ab6cb8",
   "metadata": {},
   "source": [
    "### 2c)"
   ]
  },
  {
   "cell_type": "code",
   "execution_count": 40,
   "id": "779a4206",
   "metadata": {},
   "outputs": [],
   "source": [
    "def Tikhonov_solveSVD(U,S,Vt,mu):\n",
    "    \"\"\"\n",
    "    Assume that Vt is not full \n",
    "    ---------------------------------------------------\n",
    "    Computes x based on A and mu using the SVD approach\n",
    "    Input:\n",
    "        U: np.array, ortogonal matrix\n",
    "        S: np.array, singular matrix\n",
    "        Vt: np.array, ortogonal matrix\n",
    "        mu: float, Tikhonov regularisation parameter\n",
    "    output:\n",
    "        x: np.array, solution\n",
    "    \"\"\"\n",
    "    D = S / (S**2 + mu)\n",
    "    VD = Vt.T * D   \n",
    "    return np.matmul(VD, U.T)"
   ]
  },
  {
   "cell_type": "markdown",
   "id": "b4a4eb73",
   "metadata": {},
   "source": [
    "### 2d)\n",
    "\n",
    "We are now going to test our method numerically, and compare it against numpy implementations\n",
    "\n",
    "The comparison is based on:\n",
    "- Computation speed\n",
    "- Error\n",
    "\n",
    "We denote our method by i) and the numpy implementation by ii)"
   ]
  },
  {
   "cell_type": "markdown",
   "id": "1710eeb4",
   "metadata": {},
   "source": [
    "### Computation speed"
   ]
  },
  {
   "cell_type": "markdown",
   "id": "06d95b72",
   "metadata": {},
   "source": [
    "#### i)"
   ]
  },
  {
   "cell_type": "code",
   "execution_count": 41,
   "id": "64fa6416",
   "metadata": {},
   "outputs": [],
   "source": [
    "mu_arr = np.logspace(6,-6,num = 100) "
   ]
  },
  {
   "cell_type": "code",
   "execution_count": 46,
   "id": "e04880e3",
   "metadata": {},
   "outputs": [
    {
     "name": "stdout",
     "output_type": "stream",
     "text": [
      "13.8 s ± 510 ms per loop (mean ± std. dev. of 5 runs, 1 loop each)\n"
     ]
    }
   ],
   "source": [
    "%%timeit -r 5\n",
    "U, S, Vt = np.linalg.svd(A, full_matrices=False)"
   ]
  },
  {
   "cell_type": "code",
   "execution_count": 54,
   "id": "5615a330",
   "metadata": {},
   "outputs": [
    {
     "name": "stdout",
     "output_type": "stream",
     "text": [
      "34.5 s ± 433 ms per loop (mean ± std. dev. of 5 runs, 1 loop each)\n"
     ]
    }
   ],
   "source": [
    "%%timeit -r 5\n",
    "for mu in mu_arr:\n",
    "    svd = Tikhonov_solveSVD(U, S, Vt, mu)\n",
    "    np.matmul(svd, Y[:, 0])"
   ]
  },
  {
   "cell_type": "markdown",
   "id": "4d785f87",
   "metadata": {},
   "source": [
    "#### ii)"
   ]
  },
  {
   "cell_type": "code",
   "execution_count": 47,
   "id": "43a4913f",
   "metadata": {},
   "outputs": [
    {
     "name": "stdout",
     "output_type": "stream",
     "text": [
      "646 ms ± 8.72 ms per loop (mean ± std. dev. of 5 runs, 1 loop each)\n"
     ]
    }
   ],
   "source": [
    "%%timeit -r 5\n",
    "ATA = np.matmul(A.T, A)\n",
    "ATy = np.matmul(A.T, Y)"
   ]
  },
  {
   "cell_type": "code",
   "execution_count": 48,
   "id": "89efb1e5",
   "metadata": {},
   "outputs": [],
   "source": [
    "ATA = np.matmul(A.T, A)\n",
    "ATy = np.matmul(A.T, Y)\n",
    "selected_mu_arr = np.logspace(6,-6,num = 10) \n",
    "I = np.identity(len(ATA))"
   ]
  },
  {
   "cell_type": "code",
   "execution_count": 55,
   "id": "53d841f5",
   "metadata": {},
   "outputs": [
    {
     "name": "stdout",
     "output_type": "stream",
     "text": [
      "19.8 s ± 663 ms per loop (mean ± std. dev. of 5 runs, 1 loop each)\n"
     ]
    }
   ],
   "source": [
    "%%timeit -r 5\n",
    "for mu in selected_mu_arr:\n",
    "    np.linalg.solve(ATA + mu*I, ATy[:, 0])"
   ]
  },
  {
   "cell_type": "markdown",
   "id": "08656533",
   "metadata": {},
   "source": [
    "### Error"
   ]
  },
  {
   "cell_type": "markdown",
   "id": "cdf231cb",
   "metadata": {},
   "source": [
    "#### i)"
   ]
  },
  {
   "cell_type": "code",
   "execution_count": 52,
   "id": "32f427ad",
   "metadata": {},
   "outputs": [],
   "source": [
    "error_tikhonov = []\n",
    "for mu in mu_arr:\n",
    "    svd = Tikhonov_solveSVD(U, S, Vt, mu)\n",
    "    x_min = np.matmul(svd, Y[:, 0])\n",
    "    error_tikhonov.append(np.linalg.norm(x_min - X[:, 0], 2))"
   ]
  },
  {
   "cell_type": "code",
   "execution_count": 105,
   "id": "89ae9376",
   "metadata": {},
   "outputs": [
    {
     "data": {
      "image/png": "[encoded data removed]",
      "text/plain": [
       "<Figure size 432x288 with 1 Axes>"
      ]
     },
     "metadata": {
      "needs_background": "light"
     },
     "output_type": "display_data"
    }
   ],
   "source": [
    "error_tikhonov = np.array(error_tikhonov)\n",
    "plt.plot(mu_arr, error_tikhonov)\n",
    "error_tikhonov_mean = np.sum(error_tikhonov)/len(error_tikhonov)\n",
    "error_tikhonov_min = error_tikhonov[np.argmin(error_tikhonov)]\n",
    "plt.plot([0, 10**6], [error_tikhonov_mean, error_tikhonov_mean])\n",
    "plt.plot([error_tikhonov_min, error_tikhonov_min], [min(error_tikhonov), max(error_tikhonov)])\n",
    "plt.xscale('log')\n",
    "plt.show()"
   ]
  },
  {
   "cell_type": "code",
   "execution_count": 60,
   "id": "c8e6d367",
   "metadata": {},
   "outputs": [],
   "source": [
    "error_numpy = []\n",
    "for mu in selected_mu_arr:\n",
    "    x_min = np.linalg.solve(ATA + mu*I, ATy[:, 0])\n",
    "    error_numpy.append(np.linalg.norm(x_min - X[:, 0], 2))"
   ]
  },
  {
   "cell_type": "code",
   "execution_count": 106,
   "id": "75793a06",
   "metadata": {},
   "outputs": [
    {
     "data": {
      "image/png": "[encoded data removed]",
      "text/plain": [
       "<Figure size 432x288 with 1 Axes>"
      ]
     },
     "metadata": {
      "needs_background": "light"
     },
     "output_type": "display_data"
    }
   ],
   "source": [
    "error_numpy = np.array(error_numpy)\n",
    "plt.plot(selected_mu_arr, error_numpy)\n",
    "error_numpy_mean = np.sum(error_numpy)/len(error_numpy)\n",
    "error_numpy_min = error_numpy[np.argmin(error_numpy)]\n",
    "plt.plot([0, 10**6], [error_numpy_mean, error_numpy_mean])\n",
    "plt.plot([error_numpy_min, error_numpy_min], [min(error_numpy), max(error_numpy)])\n",
    "plt.xscale('log')\n",
    "plt.show()"
   ]
  },
  {
   "cell_type": "markdown",
   "id": "c463b334",
   "metadata": {},
   "source": [
    "## Task 3"
   ]
  },
  {
   "cell_type": "markdown",
   "id": "bd670bfb",
   "metadata": {},
   "source": [
    "### a)"
   ]
  },
  {
   "cell_type": "markdown",
   "id": "ce9f9d91",
   "metadata": {},
   "source": [
    "Let $ B = I - WW^T $\n",
    "\n",
    "Assume B to be a projection matrix. Then $B^2 = B$\n",
    "\n",
    "$$ B^2 = (I - WW^T)^2 $$\n",
    "\n",
    "$$ I^2 - 2IWW^T + (WW^T)^2 $$\n",
    "\n",
    "$$ I^2 - 2IWW^T + WW^TWW^T $$\n",
    "\n",
    "Since W is a matrix with pairwise orthogonal columns, $W^TW = I$:\n",
    "\n",
    "$$ I^2 - 2IWW^T + WW^T $$\n",
    "\n",
    "$$ I^2 - WW^T = B $$\n",
    "\n",
    "We want to show that B is symmetric:\n",
    "\n",
    "$$ B^T = (I - WW^T)^T $$ \n",
    "$$I^T - (WW^T)^T$$\n",
    "$$I - WW^T = B $$\n",
    "\n",
    "B is positive definite, $ x^TBx \\geq 0 $:\n",
    "\n",
    "$$ x^TBx = x^TB^2x $$\n",
    "$$x^TB^TBx $$\n",
    "$$<Bx, Bx> $$\n",
    "$$|| Bx ||^2 \\geq 0 $$"
   ]
  },
  {
   "cell_type": "markdown",
   "id": "094e006b",
   "metadata": {},
   "source": [
    "### b)"
   ]
  },
  {
   "cell_type": "markdown",
   "id": "33e7cde0",
   "metadata": {},
   "source": [
    "### i)\n",
    "\n",
    "Let $ L(x, \\lambda) = \\frac{1}{2}x^TBx + \\lambda^T(Ax - y) $\n",
    "\n",
    "Computing $\\nabla_x L$ and $\\nabla_\\lambda L$:\n",
    "\n",
    "$\\nabla_\\lambda L$:\n",
    "\n",
    "$$ \\nabla_\\lambda L(x, \\lambda) = \\nabla_\\lambda \\lambda^TAx - \\nabla_\\lambda \\lambda^Ty $$\n",
    "\n",
    "$$\\nabla_\\lambda \\sum_j\\lambda_j(a_{ij}x_j) - \\nabla_\\lambda \\sum_j \\lambda_jy $$\n",
    "\n",
    "$$\\sum_j(a_{ij}x_j) - y\\sum_j 1$$\n",
    "\n",
    "$$ Ax - y $$\n",
    "\n",
    "$ \\nabla_x L $\n",
    "\n",
    "$$ \\nabla_x(\\frac{1}{2}x^TBx) + \\nabla_x(\\lambda^TAx) $$\n",
    "\n",
    "\n",
    "$$\\nabla_x(\\frac{1}{2}x^TBx) + \\nabla_x(\\lambda^TAx) $$\n",
    "\n",
    "$$ \\nabla_x \\frac{1}{2}\\sum_i x_i \\sum_j b_{ij}x_j + \\nabla_x \\sum_j\\lambda_j(a_{ij}x_j) $$\n",
    "\n",
    "$$ \\frac{\\partial}{\\partial x_r} \\frac{1}{2}\\sum_i x_i \\sum_j b_{ij}x_j + \\sum_j\\lambda_j(a_{ij}) $$\n",
    "\n",
    "$$ \\frac{\\partial}{\\partial x_r} \\frac{1}{2}\\sum_i x_i \\sum_j b_{ij}x_j + \\sum_j\\lambda_j(a_{ij}) $$\n",
    "\n",
    "$$ x_rb_{rr} + \\frac{1}{2} \\sum_{j \\neq r} b_{rj}x_j + \\frac{1}{2}\\sum_{i \\neq r} x_i  b_{ir} + \\sum_j\\lambda_j(a_{ij}) $$\n",
    "\n",
    "$$ \\frac{1}{2}B^Tx + \\frac{1}{2}Bx + \\lambda A^T $$\n",
    "\n",
    "Set $ \\nabla_\\lambda L = 0$:\n",
    "\n",
    "$$ Ax = y $$\n",
    "\n",
    "Set $ \\nabla_x L = 0$:\n",
    "\n",
    "$$ \\frac{1}{2}B^Tx + \\frac{1}{2}Bx + \\lambda A^T = 0 $$\n",
    "\n",
    "This can be represented as a matrix:\n",
    "\n",
    "$$\n",
    "\\begin{bmatrix}\n",
    "    \\frac{1}{2}B^T + \\frac{1}{2}B & A^T \\\\\n",
    "    A & 0 \\\\\n",
    "\\end{bmatrix}\n",
    "\\begin{bmatrix}\n",
    "    x \\\\\n",
    "    \\lambda \\\\\n",
    "\\end{bmatrix}\n",
    "=\n",
    "\\begin{bmatrix}\n",
    "    0 \\\\\n",
    "    y \\\\\n",
    "\\end{bmatrix}\n",
    "$$\n",
    "\n",
    "Which is what we wanted to show\n",
    "\n",
    "We know that $ \\frac{1}{2}B^T + \\frac{1}{2}B = B $\n",
    "\n",
    "Then the matrix is written as:\n",
    "\n",
    "$$\n",
    "\\begin{bmatrix}\n",
    "    \\begin{bmatrix}\n",
    "    B_0 & 0 \\\\\n",
    "    0 & B_1 \n",
    "\\end{bmatrix} & A^T \\\\\n",
    "    A & 0 \\\\\n",
    "\\end{bmatrix}\n",
    "\\begin{bmatrix}\n",
    "    x \\\\\n",
    "    \\lambda \\\\\n",
    "\\end{bmatrix}\n",
    "=\n",
    "\\begin{bmatrix}\n",
    "    0 \\\\\n",
    "    y \\\\\n",
    "\\end{bmatrix}\n",
    "$$\n",
    "\n",
    "The same can be done for A, $A^T$ and x:\n",
    "\n",
    "$$\n",
    "\\begin{bmatrix}\n",
    "    \\begin{bmatrix}\n",
    "    B_0 & 0 \\\\\n",
    "    0 & B_1 \n",
    "\\end{bmatrix} & \\begin{bmatrix}\n",
    "    I \\\\\n",
    "    I \\\\\n",
    "\\end{bmatrix} \\\\\n",
    "    \\begin{bmatrix}\n",
    "    I & I \\\\\n",
    "\\end{bmatrix} & 0 \\\\\n",
    "\\end{bmatrix}\n",
    "\\begin{bmatrix}\n",
    "    \\begin{bmatrix}\n",
    "    u \\\\\n",
    "    v \\\\\n",
    "\\end{bmatrix} \\\\\n",
    "    \\lambda \\\\\n",
    "\\end{bmatrix}\n",
    "=\n",
    "\\begin{bmatrix}\n",
    "    0 \\\\\n",
    "    y \\\\\n",
    "\\end{bmatrix}\n",
    "$$\n",
    "\n",
    "Now, $B_0 = I - W_0W_0^T$ and $ B_1 = I - W_1W_1^T $\n",
    "\n",
    "Then the matrix can be written as:\n",
    "\n",
    "$$\n",
    "\\begin{bmatrix}\n",
    "    I - W_0W_0^T & 0 & I \\\\\n",
    "    0 & I - W_1W_1^T & I \\\\\n",
    "    I & I & 0 \\\\\n",
    "\\end{bmatrix}\n",
    "\\begin{bmatrix}\n",
    "    u \\\\\n",
    "    v \\\\\n",
    "    \\lambda \\\\\n",
    "\\end{bmatrix}\n",
    "=\n",
    "\\begin{bmatrix}\n",
    "    0 \\\\\n",
    "    0 \\\\\n",
    "    y \\\\\n",
    "\\end{bmatrix}\n",
    "$$\n",
    "\n",
    "Which is what we wanted to show"
   ]
  },
  {
   "cell_type": "markdown",
   "id": "e7e84d6e",
   "metadata": {},
   "source": [
    "### ii)\n",
    "\n",
    "We want to write this system in the form $Cu = d$\n",
    "\n",
    "From the matrix above, we get the following equations:\n",
    "\n",
    "$$ Iu + Iv = y $$\n",
    "$$ (I - W_0W_0^T)u + I\\lambda = 0 $$\n",
    "$$ (I - W_0W_0^T)v + I\\lambda = 0 $$\n",
    "\n",
    "We use these to eliminate $\\lambda$ and v by setting:\n",
    "$$ v = y - u $$\n",
    "$$ (I - W_1W_1^T)v - (I - W_0W_0^T)u = 0 $$\n",
    "\n",
    "Putting these together gives:\n",
    "\n",
    "$$ Iy - W_1W_1^Ty = (I - W_1W_1^T)u + (I - W_0W_0^T)u $$\n",
    "\n",
    "Let $ C = (I - W_1W_1^T) + (I - W_0W_0^T) $, d = $ Iy - W_1W_1^Ty $, then:\n",
    "$$ Cu = d $$\n",
    "\n",
    "To solve for v, we use the equation:\n",
    "$$ v = y - u $$"
   ]
  },
  {
   "cell_type": "markdown",
   "id": "c20c1be1",
   "metadata": {},
   "source": [
    "### iii)"
   ]
  },
  {
   "cell_type": "code",
   "execution_count": 86,
   "id": "2bc20af0",
   "metadata": {},
   "outputs": [],
   "source": [
    "def minimal_norm_solve(W_0, W_1, y):\n",
    "    \"\"\"\n",
    "    Computes x based on A and mu using the SVD approach\n",
    "    Input:\n",
    "        W_0: np.array, basis vectors for 0\n",
    "        W_1: np.array, basis vectors for 1\n",
    "        y: np.array, vector containing 0 and 1\n",
    "    output:\n",
    "        u: np.array, channel with 0\n",
    "        v: np.array, channel with 1\n",
    "    \"\"\"\n",
    "    I = np.identity(len(W_0))\n",
    "    W_1 = np.matmul(W_1, W_1.T)\n",
    "    W_0 = np.matmul(W_0, W_0.T)\n",
    "    C = (I - W_1) + (I - W_0)\n",
    "    d = np.matmul((I - W_1), y)\n",
    "    u = np.linalg.solve(C, d)\n",
    "    v = y - u\n",
    "    return u, v"
   ]
  },
  {
   "cell_type": "markdown",
   "id": "7e015465",
   "metadata": {},
   "source": [
    "### d)"
   ]
  },
  {
   "cell_type": "code",
   "execution_count": 87,
   "id": "16c203d5",
   "metadata": {},
   "outputs": [],
   "source": [
    "W0 = np.load('Data/W0.npy')\n",
    "W1 = np.load('Data/W1.npy')\n",
    "Mixes = np.load('Data/mixed.npy')"
   ]
  },
  {
   "cell_type": "code",
   "execution_count": 84,
   "id": "aa41af4b",
   "metadata": {},
   "outputs": [
    {
     "name": "stdout",
     "output_type": "stream",
     "text": [
      "2.29 s ± 53.1 ms per loop (mean ± std. dev. of 5 runs, 1 loop each)\n"
     ]
    }
   ],
   "source": [
    "%%timeit -r 5\n",
    "for elem in Mixes.T:\n",
    "    minimal_norm_solve(W0, W1, elem)"
   ]
  },
  {
   "cell_type": "code",
   "execution_count": 104,
   "id": "d9e39753",
   "metadata": {},
   "outputs": [
    {
     "data": {
      "image/png": "[encoded data removed]",
      "text/plain": [
       "<Figure size 432x288 with 1 Axes>"
      ]
     },
     "metadata": {
      "needs_background": "light"
     },
     "output_type": "display_data"
    },
    {
     "data": {
      "image/png": "[encoded data removed]",
      "text/plain": [
       "<Figure size 432x288 with 1 Axes>"
      ]
     },
     "metadata": {
      "needs_background": "light"
     },
     "output_type": "display_data"
    },
    {
     "data": {
      "image/png": "[encoded data removed]",
      "text/plain": [
       "<Figure size 432x288 with 1 Axes>"
      ]
     },
     "metadata": {
      "needs_background": "light"
     },
     "output_type": "display_data"
    }
   ],
   "source": [
    "Mixes_T = Mixes.T\n",
    "\n",
    "i = 1\n",
    "\n",
    "u, v = minimal_norm_solve(W0, W1, Mixes_T[i])\n",
    "\n",
    "plt.imshow(Mixes[:,i].reshape((28,28)), cmap = 'gray')\n",
    "plt.axis('off') # Removes the x and y axis to plot only the image\n",
    "plt.show()\n",
    "\n",
    "plt.imshow(u.reshape((28,28)), cmap = 'gray')\n",
    "plt.axis('off') # Removes the x and y axis to plot only the image\n",
    "plt.show()\n",
    "\n",
    "plt.imshow(v.reshape((28,28)), cmap = 'gray')\n",
    "plt.axis('off') # Removes the x and y axis to plot only the image\n",
    "plt.show()\n",
    "\n",
    "\\textbb{fdsaas}"
   ]
  },
  {
   "cell_type": "markdown",
   "id": "bcc7fe8d",
   "metadata": {},
   "source": [
    "Klarte å gjenskape bildene ganske fint, men x-en som minimerer normen er kanskje ikke den beste måten å separere bildene på. "
   ]
  },
  {
   "cell_type": "code",
   "execution_count": null,
   "id": "959ac9fb",
   "metadata": {},
   "outputs": [],
   "source": []
  }
 ],
 "metadata": {
  "kernelspec": {
   "display_name": "Python 3 (ipykernel)",
   "language": "python",
   "name": "python3"
  },
  "language_info": {
   "codemirror_mode": {
    "name": "ipython",
    "version": 3
   },
   "file_extension": ".py",
   "mimetype": "text/x-python",
   "name": "python",
   "nbconvert_exporter": "python",
   "pygments_lexer": "ipython3",
   "version": "3.9.7"
  }
 },
 "nbformat": 4,
 "nbformat_minor": 5
}
