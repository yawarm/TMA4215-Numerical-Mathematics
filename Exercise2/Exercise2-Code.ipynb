{
 "cells": [
  {
   "cell_type": "markdown",
   "id": "e1583338",
   "metadata": {},
   "source": [
    "# Numerical Mathematics assignment 2\n",
    "## Amandus Nygaard, Yawar Mahmood, Hirut Gebremedhin"
   ]
  },
  {
   "cell_type": "markdown",
   "id": "d848149b",
   "metadata": {},
   "source": [
    "# Problem 1\n",
    "\n",
    "Will assume 2-norm, as it is the only norm with a derivative we have talked about.\n",
    "\n",
    "Let $I$ be the index set for $x$.\n",
    "## a)\n",
    "### 1)\n",
    "$f:\\mathbb{R}^n\\to\\mathbb{R}$, $f(x) = \\left\\lVert x\\right\\rVert$\n",
    "\\begin{align*}\n",
    "    \\nabla f = \\nabla (\\sqrt{\\sum_{i\\in I}x_i^2}) = (\\frac{\\partial}{\\partial x_r}\\sqrt{\\sum_{i\\in I}x_i^2})_{r\\in I} = \\frac{(x_r)_{r\\in I}}{\\sqrt{\\sum_{i\\in I}x_i^2}} = \\frac{x}{\\left\\lVert x\\right\\rVert}ce\n",
    "\\end{align*}\n",
    " \n",
    "### 2)\n",
    "$F:\\mathbb{R}^n\\to\\mathbb{R}^n$, $f(x) = Ax$\n",
    "\\begin{align*}\n",
    "    J_F = \\nabla (\\sum_{j\\in I} a_{ij})_{i\\in I} = (\\frac{\\partial}{\\partial x_r}\\sum_{j\\in I}a_{ij}x_j)_{i,r\\in I} = (a_{ir})_{i,r\\in I} = A\n",
    "\\end{align*}\n",
    " \n",
    "### 3)\n",
    "$f:\\mathbb{R}^n\\to\\mathbb{R}$, $f(x) = \\left\\lVert Ax\\right\\rVert^2$\n",
    "\\begin{align*}\n",
    "    \\nabla f = \\nabla (\\sum_{i\\in I}\\sum_{j\\in I}(a_{ij}x_j)^2) = (\\frac{\\partial}{\\partial x_r}\\sum_{i\\in I}\\sum_{j\\in I}(a_{ij}x_j)^2)_{r\\in I} = (2\\sum_{i\\in I}a_{ir}\\sum_{j\\in I}a_{ij}x_j)_{r\\in I} = 2A^T A x\n",
    "\\end{align*}\n",
    " \n",
    "### 4)\n",
    "$f:\\mathbb{R}^n\\to\\mathbb{R}$, $f(x) = (Ax,x) = x^T A^T x$\n",
    "\\begin{align*}\n",
    "    \\nabla f &= \\nabla (\\sum_{i\\in I}\\sum_{j\\in I}a_{ji}x_j x_i) = (\\frac{\\partial}{\\partial x_r}\\sum_{i\\in I}\\sum_{j\\in I}a_{ji}x_j x_i)_{r\\in I}= (2a_{rr}x_r+\\sum_{j\\in I,j\\neq r}a_{jr}x_j + \\sum_{i\\in I,i\\neq r}a_{ri}x_i)_{r\\in I} \\\\\n",
    "    &= (\\sum_{j\\in I}a_{jr}x_j + \\sum_{i\\in I}a_{ri}x_i)_{r\\in I} = A^Tx+Ax = (A^T+A)x\n",
    "\\end{align*}\n",
    " \n",
    "## b)\n",
    "If $A$ is symmetric, i.e. $A=A^T$, then$f:\\mathbb{R}^n\\to\\mathbb{R}$, $f(x) = (Ax,x) = x^T A^T x$ can be written as \n",
    "$$\n",
    "\\nabla f = (A^T + A)x = 2Ax.\n",
    "$$\n",
    "\n",
    "## c)\n",
    "Using the result from **2)**, and that $A$ is symmetric, the hessian for $f_3:\\mathbb{R}^n\\to\\mathbb{R}$, $f_3(x) = \\left\\lVert Ax\\right\\rVert^2$ and $f_4:\\mathbb{R}^n\\to\\mathbb{R}$, $f_4(x) = (Ax,x) = x^T A^T x$ can be written as\n",
    "\\begin{align*}\n",
    "    \\nabla^2f_3 &= J_{\\nabla f_3} = 2A^T A = 2A^2\\\\\n",
    "    \\nabla^2f_4 &= J_{\\nabla f_4} = A^T+A = 2A\n",
    "\\end{align*}\n",
    "\n",
    "## d)\n",
    "$A\\in\\mathbb{R}^{m\\times n}$, $x\\in\\mathbb{R}^n$ and $y\\in\\mathbb{R}^m$. Let $M$ be the index set for $Ax$ and $y$.\\\\\n",
    "$f(x) = \\frac{1}{2}\\left\\lVert Ax-y\\right\\rVert_2^2+\\mu\\left\\lVert x\\right\\rVert_2^2$.\n",
    "\\begin{align*}\n",
    "    \\nabla f &= \\frac{1}{2}\\nabla (\\sum_{i\\in M}[\\sum_{j\\in I}a_{ij}x_j - y_i]^2) + \\mu\\nabla (\\sum_{k\\in I}x_i^2) = \\frac{1}{2}(\\frac{\\partial}{\\partial x_r}\\sum_{i\\in M}[\\sum_{j\\in I}a_{ij}x_j - y_i]^2)_{r\\in I} + \\mu(\\frac{\\partial}{\\partial x_r}\\sum_{i\\in I}x_i^2)_{r\\in I} \\\\\n",
    "    &= \\frac{1}{2}(2\\sum_{i\\in M}a_{ir}[\\sum_{j\\in I}a_{ij}x_j - y_i])_{r\\in I} + \\mu(2 x_i)_{r\\in I} = A^T(Ax-y)+2\\mu x = (A^T A + 2\\mu)x+A^T A y\n",
    "\\end{align*}"
   ]
  },
  {
   "cell_type": "markdown",
   "id": "26f51cb9",
   "metadata": {},
   "source": [
    "# Problem 2\n",
    "\n",
    "## a)\n",
    "\\begin{align*}\n",
    "    A = \\begin{bmatrix}\n",
    "    C&I\\\\I&C\n",
    "    \\end{bmatrix}, \\hspace{1cm}\n",
    "    C = \\begin{bmatrix}\n",
    "    c_1&0&\\dots&0\\\\\n",
    "    0&\\ddots&\\ddots&\\vdots\\\\\n",
    "    \\vdots&\\ddots&\\ddots&0\\\\\n",
    "    0&\\dots&0&c_n\n",
    "    \\end{bmatrix}\n",
    "\\end{align*}\n",
    "The decomposition $A=D+L+U$ gives that\n",
    "\\begin{align*}\n",
    "    D = \\begin{bmatrix}\n",
    "    C&0\\\\0&C\n",
    "    \\end{bmatrix}, \\hspace{1cm}\n",
    "    L = \\begin{bmatrix}\n",
    "    0&0\\\\I&0\n",
    "    \\end{bmatrix}, \\hspace{1cm}\n",
    "    U = \\begin{bmatrix}\n",
    "    0&I\\\\0&0\n",
    "    \\end{bmatrix},\n",
    "\\end{align*}\n",
    "where 0 i $L$ og $U$ is the $n\\times n$ zero-matrix. Since $D$ is a diagonal matrix, its inverse is\n",
    "\\begin{align*}\n",
    "    D^{-1} = \\begin{bmatrix}\n",
    "    C^{-1}&0\\\\\n",
    "    0&C^{-1}\n",
    "    \\end{bmatrix}, \\hspace{1cm}\n",
    "    C^{-1} = \\begin{bmatrix}\n",
    "    \\frac{1}{c_1}&0&\\dots&0\\\\\n",
    "    0&\\ddots&\\ddots&\\vdots\\\\\n",
    "    \\vdots&\\ddots&\\ddots&0\\\\\n",
    "    0&\\dots&0&\\frac{1}{c_n}\n",
    "    \\end{bmatrix}\n",
    "\\end{align*}\n",
    "This gives that\n",
    "\\begin{align*}\n",
    "    B_J = D^{-1}(U+L) = \\begin{bmatrix}\n",
    "    C^{-1}&0\\\\\n",
    "    0&C^{-1}\n",
    "    \\end{bmatrix}\n",
    "    \\begin{bmatrix}\n",
    "    0&I\\\\\n",
    "    I&0\n",
    "    \\end{bmatrix} = \\begin{bmatrix}\n",
    "    0&C^{-1}\\\\\n",
    "    C^{-1}&0\n",
    "    \\end{bmatrix},\n",
    "\\end{align*}\n",
    "since $U+L$ is a permutation matrix that moves the columns of $D^{-1}$ in this case.\n",
    "\n",
    "## b)\n",
    "For the method to converge, $\\rho(B_J) < 1$, which means that the largest eigenvalue of $B_J$ must be smaller than 1. The convergence of the method means that $\\lim_{k\\to\\infty}\\left\\lVert x^{(k)}-x^*\\right\\rVert = 0$. In this case the iterative scheme is $x^{(k+1)}=-B_Jx^{(K)}+D^{-1}b$. This gives that $\\left\\lVert x^*-x^{(k+1)}\\right\\rVert\\leq \\left\\lVert B_J\\right\\rVert\\left\\lVert x^*-x^{(k)}\\right\\rVert$, which againg gives that $\\left\\lVert x^*-x^{(k+1)}\\right\\rVert\\leq \\left\\lVert B_J\\right\\rVert^{k+1} \\left\\lVert x^*-x^{(0)}\\right\\rVert$. When we assume $\\rho(B_J) < 1$, which means $\\left\\lVert x^*-x^{(k)}\\right\\rVert$ goes to 0 as $k\\to\\infty$, which also means that $\\left\\lVert B_J\\right\\rVert^{k}$ goes to zero as $k\\to\\infty$. Thus $\\lim_{k\\to\\infty}B_J^k=0$, this can only happen if all elements in $B_J$ is less then 1 in absolute value. Thus, it must be that $\\left|\\frac{1}{c_i}\\right|<1\\Rightarrow |c_i|>1$ for the method to converge for $A$.\n",
    "\n",
    "## c)\n",
    "If $A$ is stricly diagonal dominant, then\n",
    "$$\n",
    "|a_{ii}| > \\sum_{i\\neq j}|a_{ij}|\n",
    "$$\n",
    "for $i=0,1,...,2n$.\n",
    "Since\n",
    "\\begin{align*}\n",
    "A = \\begin{bmatrix}C&I\\\\I&C\\end{bmatrix}\n",
    "\\end{align*}\n",
    "it is clear to see that $|c_i|>1$. This is the same convergence properties as in **b)**"
   ]
  },
  {
   "cell_type": "code",
   "execution_count": 34,
   "id": "c83d8557",
   "metadata": {},
   "outputs": [],
   "source": [
    "import numpy as np\n",
    "import time"
   ]
  },
  {
   "cell_type": "code",
   "execution_count": 35,
   "id": "3cd40b92",
   "metadata": {},
   "outputs": [],
   "source": [
    "n = 2000\n",
    "\n",
    "def func(i, j):\n",
    "    uniform = np.random.uniform(0, 1e-6)\n",
    "    return 3.0**(-np.abs(i-j)) + 2**(-i-j) + uniform\n",
    "\n",
    "A = np.fromfunction(func, (n,n))\n",
    "        \n",
    "b = np.ones(n)"
   ]
  },
  {
   "cell_type": "code",
   "execution_count": 36,
   "id": "a526168a",
   "metadata": {},
   "outputs": [],
   "source": [
    "x_0 = b\n",
    "w = 0.1\n",
    "stop = 1e-7\n",
    "max_iter = 5000"
   ]
  },
  {
   "cell_type": "code",
   "execution_count": 37,
   "id": "4fb2ea9d",
   "metadata": {},
   "outputs": [],
   "source": [
    "def richardson(A, b, x_0, w, stop, max_iter):\n",
    "    x_k = x_0.copy()\n",
    "    r_0 = b - A@x_0\n",
    "    for k in range(max_iter):\n",
    "        r_k = b - A @ x_k\n",
    "        x_k += w * r_k\n",
    "        if np.linalg.norm(r_k, 2) < stop * np.linalg.norm(r_0,2):\n",
    "            break\n",
    "    else:\n",
    "        print(\"Warning: max iter reached\")\n",
    "    return x_k, k"
   ]
  },
  {
   "cell_type": "code",
   "execution_count": 38,
   "id": "cb0cdfcc",
   "metadata": {},
   "outputs": [
    {
     "name": "stdout",
     "output_type": "stream",
     "text": [
      "Result richardson: [0.17593892 0.40414611 0.45195907 ... 0.49976247 0.49977087 0.74964729]\n",
      "Number of iterations: 158\n",
      "Runtime: 0.1433513710508123\n"
     ]
    }
   ],
   "source": [
    "start = time.perf_counter()\n",
    "res, iterations = richardson(A, b, b, w, stop, max_iter)\n",
    "slutt = time.perf_counter()\n",
    "print(f'Result richardson: {res}')\n",
    "print(f'Number of iterations: {iterations}')\n",
    "print(f'Runtime: {slutt - start}')"
   ]
  },
  {
   "cell_type": "code",
   "execution_count": 39,
   "id": "56d851cd",
   "metadata": {},
   "outputs": [],
   "source": [
    "def steepestdescent(A, b, x_0, stop, max_iter):\n",
    "    \n",
    "    x_k = x_0.copy()\n",
    "    r_0 = b - A@x_0\n",
    "    r_k = r_0.copy()\n",
    "    \n",
    "    for k in range(max_iter):\n",
    "        Ar_k = A@r_k\n",
    "        w_k = np.dot(r_k, r_k)/np.dot(r_k, Ar_k )\n",
    "        x_k += w_k*(r_k)\n",
    "        r_k -= w_k*(Ar_k)\n",
    "        if np.linalg.norm(r_k, 2) < stop * np.linalg.norm(r_0,2):\n",
    "            break\n",
    "    else:\n",
    "        print(\"Warning: max iter reached\")\n",
    "    \n",
    "    return x_k, k"
   ]
  },
  {
   "cell_type": "code",
   "execution_count": 40,
   "id": "3a3521f9",
   "metadata": {},
   "outputs": [
    {
     "name": "stdout",
     "output_type": "stream",
     "text": [
      "Result richardson: [0.17593932 0.40414747 0.45195866 ... 0.49976405 0.49976892 0.74964848]\n",
      "Number of iterations: 23\n",
      "Runtime: 0.026392553001642227\n"
     ]
    }
   ],
   "source": [
    "start = time.perf_counter()\n",
    "res, iterations = steepestdescent(A, b, x_0, stop, max_iter)\n",
    "slutt = time.perf_counter()\n",
    "print(f'Result richardson: {res}')\n",
    "print(f'Number of iterations: {iterations}')\n",
    "print(f'Runtime: {slutt - start}')"
   ]
  },
  {
   "cell_type": "code",
   "execution_count": 41,
   "id": "08e66821",
   "metadata": {},
   "outputs": [],
   "source": [
    "def gaussseidel(A, x_0, b, n, stop, max_iter):\n",
    "    k = 0\n",
    "    r_0 = b - A@x_0\n",
    "    x = x_0.copy()\n",
    "    invert_diag = 1.0/np.diag(A)\n",
    "    \n",
    "    for k in range(max_iter):\n",
    "        r_k = b - A@x\n",
    "        for j in range(n):\n",
    "            x[j] = invert_diag[j] * (b[j] - np.dot(A[j], x) + A[j, j]*x[j])\n",
    "        if np.linalg.norm(r_k,2)/np.linalg.norm(r_0,2) < stop:\n",
    "            break\n",
    "    else:\n",
    "        print(\"Warning: max iter reached\")\n",
    "        \n",
    "            \n",
    "    return x, k"
   ]
  },
  {
   "cell_type": "code",
   "execution_count": 42,
   "id": "da5afcf2",
   "metadata": {},
   "outputs": [
    {
     "name": "stdout",
     "output_type": "stream",
     "text": [
      "Result richardson: [0.17593823 0.40414793 0.45195723 ... 0.49976652 0.49976652 0.74964978]\n",
      "Number of iterations: 15\n",
      "Runtime: 0.11412049701903015\n"
     ]
    }
   ],
   "source": [
    "start = time.perf_counter()\n",
    "res, iterations = gaussseidel(A, x_0, b, n, stop, max_iter)\n",
    "slutt = time.perf_counter()\n",
    "print(f'Result richardson: {res}')\n",
    "print(f'Number of iterations: {iterations}')\n",
    "print(f'Runtime: {slutt - start}')"
   ]
  }
 ],
 "metadata": {
  "kernelspec": {
   "display_name": "Python 3 (ipykernel)",
   "language": "python",
   "name": "python3"
  },
  "language_info": {
   "codemirror_mode": {
    "name": "ipython",
    "version": 3
   },
   "file_extension": ".py",
   "mimetype": "text/x-python",
   "name": "python",
   "nbconvert_exporter": "python",
   "pygments_lexer": "ipython3",
   "version": "3.9.7"
  }
 },
 "nbformat": 4,
 "nbformat_minor": 5
}
