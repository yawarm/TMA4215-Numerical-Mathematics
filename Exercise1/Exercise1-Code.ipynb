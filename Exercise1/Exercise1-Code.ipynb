{
 "cells": [
  {
   "cell_type": "markdown",
   "id": "67590f60",
   "metadata": {},
   "source": [
    "# Exercise 1\n",
    "### Amandus Omholt Nygaard, Yawar Mahmood, Hirut Gebremedhin"
   ]
  },
  {
   "cell_type": "markdown",
   "id": "ca2a7ceb",
   "metadata": {},
   "source": [
    "## Problem 1"
   ]
  },
  {
   "cell_type": "markdown",
   "id": "564125c2",
   "metadata": {},
   "source": [
    "a)\n",
    "\n",
    "$ K_2(A) = ||A||_2 ||A^{-1}||_2 $\n",
    "It is given from the lecture notes that $||A||_2 = \\sqrt{\\lambda_{max}} $, where $\\lambda_{max}$ is the eigenvalue of $A^TA$. We can use this result to find $||A^{-1}||_2$, which is given by:\n",
    "\n",
    "$||A^{-1}||_2 = \\sqrt{\\Lambda_{max}}$, where $\\Lambda_{max}$ is the eigenvalue of $(A^TA)^{-1}$\n",
    "\n",
    "Since $(A^TA)^{-1} = (A^{-1})^TA^{-1}$, we can deduce that the eigenvalues of $(A^TA)^{-1}$ are the inverse of $A^TA$. Therefore:\n",
    "\n",
    "$ \\Lambda_{max} = \\frac{1}{\\lambda_{min}} $, where $\\lambda_{min}$ is the eigenvalue of $A^TA$.\n",
    "\n",
    "The condition number is therefore given by:\n",
    "$$ K_2(A) = ||A||_2 ||A^{-1}||_2 = \\sqrt{\\frac{\\lambda_{max}}{\\lambda_{min}}} $$"
   ]
  },
  {
   "cell_type": "markdown",
   "id": "78e52c96",
   "metadata": {},
   "source": [
    "b)\n",
    "\n",
    "Given an orthogonal matrix Q: $Q^T = Q^{-1}$\n",
    "\n",
    "Therefore:  $ K_2(Q) = ||Q||_2 ||Q^{-1}||_2 = ||Q||_2 ||Q^{T}||_2 $ \n",
    "\n",
    "Further: $QQ^{-1} = QQ^T = I$, and it is known that the eigenvalues of I are all 1 (by construction)\n",
    "\n",
    "The condition number is therefore given by:\n",
    "$$ K_2(Q) = ||Q||_2 ||Q^{-1}||_2 = \\sqrt{\\frac{\\lambda_{max}}{\\lambda_{min}}} = 1 $$\n",
    "Where $ \\lambda_{max} \\land \\lambda_{min} $ are the eigenvalues of I. "
   ]
  },
  {
   "cell_type": "markdown",
   "id": "2dd97713",
   "metadata": {},
   "source": [
    "c)\n",
    "\n",
    "It is given that:\n",
    "$$  K_2(A) = \\sqrt{\\frac{\\lambda_{max}}{\\lambda_{min}}} = 1 $$\n",
    "Which implies that $ \\lambda_{max} = \\lambda_{min} $\n",
    "\n",
    "If the bigget and smallest eigenvalues are equal to each other, then all the eigenvalues has to be equal to each other. "
   ]
  },
  {
   "cell_type": "markdown",
   "id": "16f49c98",
   "metadata": {},
   "source": [
    "## Problem 2"
   ]
  },
  {
   "cell_type": "code",
   "execution_count": 1,
   "id": "f5e49c2c",
   "metadata": {},
   "outputs": [],
   "source": [
    "import numpy as np\n",
    "import scipy.linalg as sp\n",
    "import time"
   ]
  },
  {
   "cell_type": "code",
   "execution_count": 2,
   "id": "94467102",
   "metadata": {},
   "outputs": [],
   "source": [
    "def mylu(A):\n",
    "    LU = np.copy(A)\n",
    "    n = len(LU)\n",
    "    p = np.arange(n)\n",
    "    for k in range(n):\n",
    "        max_index = np.argmax(np.abs(LU[p[k:],k]))\n",
    "        p[k],p[max_index+k] = p[max_index+k],p[k]\n",
    "        \n",
    "        for i in range(k+1,n):\n",
    "            LU[p[i],k] = LU[p[i],k]/LU[p[k],k]\n",
    "            \n",
    "            for j in range(k+1,n):\n",
    "                LU[p[i],j] = LU[p[i],j] - LU[p[i],k]*LU[p[k],j]\n",
    "    \n",
    "    return LU,p"
   ]
  },
  {
   "cell_type": "code",
   "execution_count": 3,
   "id": "11cf9dbd",
   "metadata": {},
   "outputs": [],
   "source": [
    "A = np.array ([[2.0, 5, 8, 7], [5, 2, 2, 8], [7, 5, 6, 6], [5, 4, 4, 8]])"
   ]
  },
  {
   "cell_type": "code",
   "execution_count": 4,
   "id": "daf4ddd9",
   "metadata": {},
   "outputs": [],
   "source": [
    "def mylutest(A):\n",
    "    A_lu,p_lu = mylu(A)\n",
    "    print(\"mylu:\")\n",
    "    print(A_lu[p_lu[:],:])\n",
    "    print()\n",
    "    \n",
    "    P,L,U = sp.lu(A)\n",
    "    print(\"Scipy lu:\")\n",
    "    print(\"U=\",U)\n",
    "    print()\n",
    "    print(\"L=\",L)"
   ]
  },
  {
   "cell_type": "code",
   "execution_count": 5,
   "id": "5aad0800",
   "metadata": {},
   "outputs": [
    {
     "name": "stdout",
     "output_type": "stream",
     "text": [
      "mylu:\n",
      "[[ 7.          5.          6.          6.        ]\n",
      " [ 0.28571429  3.57142857  6.28571429  5.28571429]\n",
      " [ 0.71428571  0.12       -1.04        3.08      ]\n",
      " [ 0.71428571 -0.44       -0.46153846  7.46153846]]\n",
      "\n",
      "Scipy lu:\n",
      "U= [[ 7.          5.          6.          6.        ]\n",
      " [ 0.          3.57142857  6.28571429  5.28571429]\n",
      " [ 0.          0.         -1.04        3.08      ]\n",
      " [ 0.          0.          0.          7.46153846]]\n",
      "\n",
      "L= [[ 1.          0.          0.          0.        ]\n",
      " [ 0.28571429  1.          0.          0.        ]\n",
      " [ 0.71428571  0.12        1.          0.        ]\n",
      " [ 0.71428571 -0.44       -0.46153846  1.        ]]\n"
     ]
    }
   ],
   "source": [
    "mylutest(A)"
   ]
  },
  {
   "cell_type": "code",
   "execution_count": 6,
   "id": "d5fabe10",
   "metadata": {},
   "outputs": [
    {
     "name": "stderr",
     "output_type": "stream",
     "text": [
      "/tmp/ipykernel_96231/1693290250.py:10: RuntimeWarning: invalid value encountered in long_scalars\n",
      "  LU[p[i],k] = LU[p[i],k]/LU[p[k],k]\n"
     ]
    },
    {
     "ename": "ValueError",
     "evalue": "cannot convert float NaN to integer",
     "output_type": "error",
     "traceback": [
      "\u001b[0;31m---------------------------------------------------------------------------\u001b[0m",
      "\u001b[0;31mValueError\u001b[0m                                Traceback (most recent call last)",
      "\u001b[0;32m/tmp/ipykernel_96231/1753025450.py\u001b[0m in \u001b[0;36m<module>\u001b[0;34m\u001b[0m\n\u001b[1;32m      1\u001b[0m \u001b[0mA\u001b[0m \u001b[0;34m=\u001b[0m \u001b[0mnp\u001b[0m\u001b[0;34m.\u001b[0m\u001b[0marray\u001b[0m\u001b[0;34m(\u001b[0m\u001b[0;34m[\u001b[0m\u001b[0;34m[\u001b[0m\u001b[0;36m1\u001b[0m\u001b[0;34m,\u001b[0m\u001b[0;36m2\u001b[0m\u001b[0;34m,\u001b[0m\u001b[0;36m3\u001b[0m\u001b[0;34m]\u001b[0m\u001b[0;34m,\u001b[0m\u001b[0;34m[\u001b[0m\u001b[0;36m1\u001b[0m\u001b[0;34m,\u001b[0m\u001b[0;36m2\u001b[0m\u001b[0;34m,\u001b[0m\u001b[0;36m6\u001b[0m\u001b[0;34m]\u001b[0m\u001b[0;34m,\u001b[0m\u001b[0;34m[\u001b[0m\u001b[0;36m1\u001b[0m\u001b[0;34m,\u001b[0m\u001b[0;36m2\u001b[0m\u001b[0;34m,\u001b[0m\u001b[0;36m9\u001b[0m\u001b[0;34m]\u001b[0m\u001b[0;34m]\u001b[0m\u001b[0;34m)\u001b[0m\u001b[0;34m\u001b[0m\u001b[0;34m\u001b[0m\u001b[0m\n\u001b[1;32m      2\u001b[0m \u001b[0;34m\u001b[0m\u001b[0m\n\u001b[0;32m----> 3\u001b[0;31m \u001b[0mA_lu\u001b[0m\u001b[0;34m,\u001b[0m\u001b[0mp_lu\u001b[0m \u001b[0;34m=\u001b[0m \u001b[0mmylu\u001b[0m\u001b[0;34m(\u001b[0m\u001b[0mA\u001b[0m\u001b[0;34m)\u001b[0m\u001b[0;34m\u001b[0m\u001b[0;34m\u001b[0m\u001b[0m\n\u001b[0m\u001b[1;32m      4\u001b[0m \u001b[0mprint\u001b[0m\u001b[0;34m(\u001b[0m\u001b[0mA_lu\u001b[0m\u001b[0;34m[\u001b[0m\u001b[0mp_lu\u001b[0m\u001b[0;34m[\u001b[0m\u001b[0;34m:\u001b[0m\u001b[0;34m]\u001b[0m\u001b[0;34m,\u001b[0m\u001b[0;34m:\u001b[0m\u001b[0;34m]\u001b[0m\u001b[0;34m)\u001b[0m\u001b[0;34m\u001b[0m\u001b[0;34m\u001b[0m\u001b[0m\n",
      "\u001b[0;32m/tmp/ipykernel_96231/1693290250.py\u001b[0m in \u001b[0;36mmylu\u001b[0;34m(A)\u001b[0m\n\u001b[1;32m      8\u001b[0m \u001b[0;34m\u001b[0m\u001b[0m\n\u001b[1;32m      9\u001b[0m         \u001b[0;32mfor\u001b[0m \u001b[0mi\u001b[0m \u001b[0;32min\u001b[0m \u001b[0mrange\u001b[0m\u001b[0;34m(\u001b[0m\u001b[0mk\u001b[0m\u001b[0;34m+\u001b[0m\u001b[0;36m1\u001b[0m\u001b[0;34m,\u001b[0m\u001b[0mn\u001b[0m\u001b[0;34m)\u001b[0m\u001b[0;34m:\u001b[0m\u001b[0;34m\u001b[0m\u001b[0;34m\u001b[0m\u001b[0m\n\u001b[0;32m---> 10\u001b[0;31m             \u001b[0mLU\u001b[0m\u001b[0;34m[\u001b[0m\u001b[0mp\u001b[0m\u001b[0;34m[\u001b[0m\u001b[0mi\u001b[0m\u001b[0;34m]\u001b[0m\u001b[0;34m,\u001b[0m\u001b[0mk\u001b[0m\u001b[0;34m]\u001b[0m \u001b[0;34m=\u001b[0m \u001b[0mLU\u001b[0m\u001b[0;34m[\u001b[0m\u001b[0mp\u001b[0m\u001b[0;34m[\u001b[0m\u001b[0mi\u001b[0m\u001b[0;34m]\u001b[0m\u001b[0;34m,\u001b[0m\u001b[0mk\u001b[0m\u001b[0;34m]\u001b[0m\u001b[0;34m/\u001b[0m\u001b[0mLU\u001b[0m\u001b[0;34m[\u001b[0m\u001b[0mp\u001b[0m\u001b[0;34m[\u001b[0m\u001b[0mk\u001b[0m\u001b[0;34m]\u001b[0m\u001b[0;34m,\u001b[0m\u001b[0mk\u001b[0m\u001b[0;34m]\u001b[0m\u001b[0;34m\u001b[0m\u001b[0;34m\u001b[0m\u001b[0m\n\u001b[0m\u001b[1;32m     11\u001b[0m \u001b[0;34m\u001b[0m\u001b[0m\n\u001b[1;32m     12\u001b[0m             \u001b[0;32mfor\u001b[0m \u001b[0mj\u001b[0m \u001b[0;32min\u001b[0m \u001b[0mrange\u001b[0m\u001b[0;34m(\u001b[0m\u001b[0mk\u001b[0m\u001b[0;34m+\u001b[0m\u001b[0;36m1\u001b[0m\u001b[0;34m,\u001b[0m\u001b[0mn\u001b[0m\u001b[0;34m)\u001b[0m\u001b[0;34m:\u001b[0m\u001b[0;34m\u001b[0m\u001b[0;34m\u001b[0m\u001b[0m\n",
      "\u001b[0;31mValueError\u001b[0m: cannot convert float NaN to integer"
     ]
    }
   ],
   "source": [
    "A = np.array([[1,2,3],[1,2,6],[1,2,9]])\n",
    "\n",
    "A_lu,p_lu = mylu(A)\n",
    "print(A_lu[p_lu[:],:])"
   ]
  },
  {
   "cell_type": "markdown",
   "id": "a6838130",
   "metadata": {},
   "source": [
    "Get divide by zero error when the matrix is not of full rank."
   ]
  },
  {
   "cell_type": "markdown",
   "id": "e3dbadb4",
   "metadata": {},
   "source": [
    "## Problem 3"
   ]
  },
  {
   "cell_type": "code",
   "execution_count": 7,
   "id": "6812f6c3",
   "metadata": {},
   "outputs": [],
   "source": [
    "def forward_substitution(A,b):\n",
    "    n = len(b)\n",
    "    x = np.zeros(n)\n",
    "    x[0] = b[0]/A[0,0]\n",
    "    for i in range(1,n):\n",
    "        x[i] = (b[i] - sum(np.multiply(x[0:i],A[i,0:i])))/A[i,i]\n",
    "    return x\n",
    "\n",
    "def backward_substitution(A,b):\n",
    "    n = len(b)\n",
    "    x = np.zeros(n)\n",
    "    x[n-1] = b[n-1]/A[n-1,n-1]\n",
    "    for i in range(n-2,-1,-1):\n",
    "        x[i] = (b[i] - sum(np.multiply(x[i+1:n],A[i,i+1:n])))/A[i,i]\n",
    "    return x"
   ]
  },
  {
   "cell_type": "code",
   "execution_count": 8,
   "id": "f04f1b56",
   "metadata": {},
   "outputs": [],
   "source": [
    "def my_solve(A,b):\n",
    "    LU,p = mylu(A)\n",
    "    \n",
    "    LU = LU[p[:],:]\n",
    "    \n",
    "    y = forward_substitution((LU-np.diag(np.diagonal(LU)))+np.diag(np.ones(len(LU))),b[p[:]])\n",
    "    \n",
    "    x = backward_substitution(LU,y)\n",
    "    \n",
    "    return x"
   ]
  },
  {
   "cell_type": "code",
   "execution_count": 9,
   "id": "777cbe08",
   "metadata": {},
   "outputs": [
    {
     "name": "stdout",
     "output_type": "stream",
     "text": [
      "LU decomp {m} times:  43.20029544830322\n",
      "LU decomp 1 time 0.40660619735717773\n",
      "Scipy:  0.07245922088623047\n"
     ]
    }
   ],
   "source": [
    "m = 200\n",
    "n = 100\n",
    "\n",
    "L = np.random.rand(n,n)*10\n",
    "L = np.tril(L)-np.diag(np.diagonal(L))+np.diag(np.ones(n))\n",
    "\n",
    "U = np.triu(np.random.rand(n,n)*10)\n",
    "\n",
    "A = np.matmul(L,U)\n",
    "\n",
    "b = np.random.rand(len(A),m)\n",
    "\n",
    "#test 1\n",
    "time_1 = time.time()\n",
    "for i in range(m):\n",
    "    x = my_solve(A,b[:,i])\n",
    "time_1 = time.time() - time_1\n",
    "\n",
    "#test 2\n",
    "time_2 = time.time()\n",
    "A,p = mylu(A)\n",
    "    \n",
    "A = A[p[:],:]\n",
    "\n",
    "for i in range(m):\n",
    "    x = forward_substitution((A-np.diag(np.diagonal(A)))+np.diag(np.ones(len(A))),b[:,i])\n",
    "    \n",
    "    x = backward_substitution(A,x)\n",
    "    \n",
    "time_2 = time.time() - time_2\n",
    "\n",
    "#test 3\n",
    "time_3 = time.time()\n",
    "for i in range(m):\n",
    "    x = sp.solve(A,b[:,i])\n",
    "time_3 = time.time() - time_3\n",
    "\n",
    "print(\"LU decomp {m} times: \",time_1)\n",
    "print(\"LU decomp 1 time\",time_2)\n",
    "print(\"Scipy: \",time_3)"
   ]
  },
  {
   "cell_type": "code",
   "execution_count": null,
   "id": "f9557666",
   "metadata": {},
   "outputs": [],
   "source": []
  }
 ],
 "metadata": {
  "kernelspec": {
   "display_name": "Python 3 (ipykernel)",
   "language": "python",
   "name": "python3"
  },
  "language_info": {
   "codemirror_mode": {
    "name": "ipython",
    "version": 3
   },
   "file_extension": ".py",
   "mimetype": "text/x-python",
   "name": "python",
   "nbconvert_exporter": "python",
   "pygments_lexer": "ipython3",
   "version": "3.9.7"
  }
 },
 "nbformat": 4,
 "nbformat_minor": 5
}
